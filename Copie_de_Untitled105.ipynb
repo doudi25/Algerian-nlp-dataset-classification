{
  "nbformat": 4,
  "nbformat_minor": 0,
  "metadata": {
    "colab": {
      "provenance": [],
      "gpuType": "T4",
      "include_colab_link": true
    },
    "kernelspec": {
      "name": "python3",
      "display_name": "Python 3"
    },
    "language_info": {
      "name": "python"
    },
    "accelerator": "GPU"
  },
  "cells": [
    {
      "cell_type": "markdown",
      "metadata": {
        "id": "view-in-github",
        "colab_type": "text"
      },
      "source": [
        "<a href=\"https://colab.research.google.com/github/doudi25/Algerian-nlp-dataset-classification/blob/main/Copie_de_Untitled105.ipynb\" target=\"_parent\"><img src=\"https://colab.research.google.com/assets/colab-badge.svg\" alt=\"Open In Colab\"/></a>"
      ]
    },
    {
      "cell_type": "code",
      "execution_count": 2,
      "metadata": {
        "id": "yQkN7qVMeu5Y"
      },
      "outputs": [],
      "source": [
        "import cudf\n",
        "df=cudf.read_csv('total.csv')"
      ]
    },
    {
      "cell_type": "code",
      "source": [
        "!unzip doud.zip"
      ],
      "metadata": {
        "id": "iiWR6mTSw9mt",
        "outputId": "4714315b-1934-4ef1-9321-4ba15b01e012",
        "colab": {
          "base_uri": "https://localhost:8080/"
        }
      },
      "execution_count": 1,
      "outputs": [
        {
          "output_type": "stream",
          "name": "stdout",
          "text": [
            "Archive:  doud.zip\n",
            "  inflating: total.csv               \n"
          ]
        }
      ]
    },
    {
      "cell_type": "code",
      "source": [
        "comment=df['comment']\n"
      ],
      "metadata": {
        "id": "RUkIvDoPlivJ"
      },
      "execution_count": 3,
      "outputs": []
    },
    {
      "cell_type": "code",
      "source": [
        "y=df['Topic']"
      ],
      "metadata": {
        "id": "DNiaJpDwgbgr"
      },
      "execution_count": 4,
      "outputs": []
    },
    {
      "cell_type": "code",
      "source": [
        "y=y.to_pandas()"
      ],
      "metadata": {
        "id": "04OyrOZZi8Ie"
      },
      "execution_count": 5,
      "outputs": []
    },
    {
      "cell_type": "code",
      "source": [
        "from sklearn.preprocessing import LabelEncoder\n",
        "le=LabelEncoder()\n",
        "y=le.fit_transform(y)"
      ],
      "metadata": {
        "id": "_7hWtv5rj0TV"
      },
      "execution_count": 6,
      "outputs": []
    },
    {
      "cell_type": "code",
      "source": [
        "import numpy as np\n",
        "np.unique(y)"
      ],
      "metadata": {
        "colab": {
          "base_uri": "https://localhost:8080/"
        },
        "id": "sF7wldLMjlzG",
        "outputId": "dddcf565-f81c-4750-edb9-52003aff26d4"
      },
      "execution_count": 7,
      "outputs": [
        {
          "output_type": "execute_result",
          "data": {
            "text/plain": [
              "array([ 0,  1,  2,  3,  4,  5,  6,  7,  8,  9, 10, 11, 12, 13, 14, 15, 16,\n",
              "       17, 18, 19])"
            ]
          },
          "metadata": {},
          "execution_count": 7
        }
      ]
    },
    {
      "cell_type": "code",
      "source": [
        "X=list(comment.to_pandas())"
      ],
      "metadata": {
        "id": "-8iFBy9Vk2Sp"
      },
      "execution_count": 8,
      "outputs": []
    },
    {
      "cell_type": "code",
      "source": [
        "import nltk\n",
        "nltk.download('punkt')"
      ],
      "metadata": {
        "id": "f9_C2un2X8Ve",
        "outputId": "7bab7d1c-8f08-44b9-900a-c949bf78f967",
        "colab": {
          "base_uri": "https://localhost:8080/"
        }
      },
      "execution_count": 9,
      "outputs": [
        {
          "output_type": "stream",
          "name": "stderr",
          "text": [
            "[nltk_data] Downloading package punkt to /root/nltk_data...\n",
            "[nltk_data]   Unzipping tokenizers/punkt.zip.\n"
          ]
        },
        {
          "output_type": "execute_result",
          "data": {
            "text/plain": [
              "True"
            ]
          },
          "metadata": {},
          "execution_count": 9
        }
      ]
    },
    {
      "cell_type": "code",
      "source": [
        "from nltk.tokenize import word_tokenize\n",
        "tokenized_data = [word_tokenize(sentence.lower()) for sentence in X]\n"
      ],
      "metadata": {
        "id": "aoOHakDpXwaZ"
      },
      "execution_count": 10,
      "outputs": []
    },
    {
      "cell_type": "code",
      "source": [
        "from gensim.models import Word2Vec\n",
        "embedding_model = Word2Vec(\n",
        "    tokenized_data,\n",
        "    hs=1,\n",
        "    sg=1,\n",
        "    vector_size=100,\n",
        "    window=10,\n",
        "    workers=2,\n",
        "    min_count=1,\n",
        "    seed=0,\n",
        "    negative=0\n",
        ")\n"
      ],
      "metadata": {
        "id": "i8sQ83SnYYj4"
      },
      "execution_count": 11,
      "outputs": []
    },
    {
      "cell_type": "code",
      "source": [
        "embedding_model.train(tokenized_data,total_examples=embedding_model.corpus_count,epochs=250,report_delay=1)\n"
      ],
      "metadata": {
        "id": "1lqKaE0oY9q5",
        "outputId": "74ae755e-5f62-44b2-e9a5-aefb35817456",
        "colab": {
          "base_uri": "https://localhost:8080/"
        }
      },
      "execution_count": 12,
      "outputs": [
        {
          "output_type": "stream",
          "name": "stderr",
          "text": [
            "WARNING:gensim.models.word2vec:Effective 'alpha' higher than previous training cycles\n"
          ]
        },
        {
          "output_type": "execute_result",
          "data": {
            "text/plain": [
              "(17598594, 19303750)"
            ]
          },
          "metadata": {},
          "execution_count": 12
        }
      ]
    },
    {
      "cell_type": "code",
      "source": [
        "def get_embed(token):\n",
        "  sentence=[embedding_model.wv[word]  for word in token if word in embedding_model.wv ]\n",
        "  return sentence"
      ],
      "metadata": {
        "id": "tkgw42JjZKWF"
      },
      "execution_count": 13,
      "outputs": []
    },
    {
      "cell_type": "code",
      "source": [
        "def dataset_embed(dataset):\n",
        "  embed_dataset=[]\n",
        "  for sentence in dataset:\n",
        "    embed_dataset.append(get_embed(sentence))\n",
        "  return embed_dataset"
      ],
      "metadata": {
        "id": "ledVD3teZo7t"
      },
      "execution_count": 14,
      "outputs": []
    },
    {
      "cell_type": "code",
      "source": [
        "embedded_dataset=dataset_embed(tokenized_data)"
      ],
      "metadata": {
        "id": "klUMRBH8a-LG"
      },
      "execution_count": 15,
      "outputs": []
    },
    {
      "cell_type": "code",
      "source": [
        "def padding(dataset,desired_length=60):\n",
        "  padded_dataset=[]\n",
        "  for i,a in enumerate(dataset):\n",
        "    array=np.array(a)\n",
        "    length=array.shape[0]\n",
        "    diff= desired_length-length\n",
        "    if diff>0:\n",
        "      pad = np.zeros(shape=(diff, 100))\n",
        "      X_copy = np.concatenate([array, pad])\n",
        "      padded_dataset.append(X_copy)\n",
        "    else:\n",
        "      padded_dataset.append(array[:desired_length])\n",
        "  return padded_dataset\n"
      ],
      "metadata": {
        "id": "WjwR2bofbCsy"
      },
      "execution_count": 53,
      "outputs": []
    },
    {
      "cell_type": "code",
      "source": [
        "final_dataset=padding(embedded_dataset)"
      ],
      "metadata": {
        "id": "e0bDVeIacQQz"
      },
      "execution_count": 54,
      "outputs": []
    },
    {
      "cell_type": "code",
      "source": [
        "final_dataset=np.array(final_dataset)"
      ],
      "metadata": {
        "id": "vXVEPdPQcUC0"
      },
      "execution_count": 55,
      "outputs": []
    },
    {
      "cell_type": "code",
      "source": [
        "final_dataset.shape"
      ],
      "metadata": {
        "id": "y7lSFlIBcWUF",
        "outputId": "d50a4210-e1a8-416d-b695-63bf31e51485",
        "colab": {
          "base_uri": "https://localhost:8080/"
        }
      },
      "execution_count": 56,
      "outputs": [
        {
          "output_type": "execute_result",
          "data": {
            "text/plain": [
              "(7522, 60, 100)"
            ]
          },
          "metadata": {},
          "execution_count": 56
        }
      ]
    },
    {
      "cell_type": "code",
      "source": [
        "def distribution(X):\n",
        "  length=[]\n",
        "  for i in range(len(X)):\n",
        "    length.append(len(X[i]))\n",
        "  return length\n",
        "distribution=distribution(X)"
      ],
      "metadata": {
        "id": "rzNi-5xxjqby"
      },
      "execution_count": 20,
      "outputs": []
    },
    {
      "cell_type": "code",
      "source": [
        "import matplotlib.pyplot as plt\n",
        "plt.hist(distribution)\n",
        "plt.hist(distribution)\n",
        "plt.xlabel('Sequence Length')\n",
        "plt.ylabel('Frequency')\n",
        "plt.title('Distribution of Message Sequence Lengths')\n",
        "plt.show()\n"
      ],
      "metadata": {
        "colab": {
          "base_uri": "https://localhost:8080/",
          "height": 472
        },
        "id": "yAV2_S-XnWzi",
        "outputId": "28335613-019d-4f8d-9f6e-60cbd9255260"
      },
      "execution_count": null,
      "outputs": [
        {
          "output_type": "display_data",
          "data": {
            "text/plain": [
              "<Figure size 640x480 with 1 Axes>"
            ],
            "image/png": "[encoded data removed]"
          },
          "metadata": {}
        }
      ]
    },
    {
      "cell_type": "code",
      "source": [
        "from sklearn.model_selection import train_test_split\n",
        "X_train,X_test,Y_train,Y_test=train_test_split(final_dataset,y,test_size=0.2,shuffle=True)"
      ],
      "metadata": {
        "id": "2-Ixc-_c8tQq"
      },
      "execution_count": 57,
      "outputs": []
    },
    {
      "cell_type": "code",
      "source": [
        "from keras import layers\n",
        "import keras\n",
        "model=keras.Sequential()\n",
        "model.add(layers.Input(shape=(60,100)))\n",
        "model.add(layers.LSTM(32,return_sequences=True))\n",
        "model.add(layers.Dropout(0.2))\n",
        "model.add(layers.LSTM(32,return_sequences=True))\n",
        "model.add(layers.Dropout(0.4))\n",
        "model.add(layers.LSTM(32,return_sequences=True))\n",
        "model.add(layers.Dropout(0.4))\n",
        "model.add(layers.Flatten())\n",
        "model.add(layers.Dense(20,activation='softmax'))\n",
        "model.build()\n",
        "model.summary()"
      ],
      "metadata": {
        "id": "QQrJSbmt9SMk",
        "outputId": "7a41dae6-9f1b-4aca-e216-7a015bb73c92",
        "colab": {
          "base_uri": "https://localhost:8080/"
        }
      },
      "execution_count": 58,
      "outputs": [
        {
          "output_type": "stream",
          "name": "stdout",
          "text": [
            "Model: \"sequential_6\"\n",
            "_________________________________________________________________\n",
            " Layer (type)                Output Shape              Param #   \n",
            "=================================================================\n",
            " lstm_15 (LSTM)              (None, 60, 32)            17024     \n",
            "                                                                 \n",
            " dropout_15 (Dropout)        (None, 60, 32)            0         \n",
            "                                                                 \n",
            " lstm_16 (LSTM)              (None, 60, 32)            8320      \n",
            "                                                                 \n",
            " dropout_16 (Dropout)        (None, 60, 32)            0         \n",
            "                                                                 \n",
            " lstm_17 (LSTM)              (None, 60, 32)            8320      \n",
            "                                                                 \n",
            " dropout_17 (Dropout)        (None, 60, 32)            0         \n",
            "                                                                 \n",
            " flatten_5 (Flatten)         (None, 1920)              0         \n",
            "                                                                 \n",
            " dense_5 (Dense)             (None, 20)                38420     \n",
            "                                                                 \n",
            "=================================================================\n",
            "Total params: 72084 (281.58 KB)\n",
            "Trainable params: 72084 (281.58 KB)\n",
            "Non-trainable params: 0 (0.00 Byte)\n",
            "_________________________________________________________________\n"
          ]
        }
      ]
    },
    {
      "cell_type": "code",
      "source": [
        "\n",
        "model.compile(optimizer='Adam',loss='sparse_categorical_crossentropy',metrics=['accuracy'])"
      ],
      "metadata": {
        "id": "ArVyOHl-_ak4"
      },
      "execution_count": 59,
      "outputs": []
    },
    {
      "cell_type": "code",
      "source": [
        "\n",
        "model.fit(X_train,Y_train,epochs=30,batch_size=32,validation_data=(X_test,Y_test))"
      ],
      "metadata": {
        "id": "rmD4Ju20_1mD",
        "outputId": "5dcd7028-9e6d-4a57-e02c-4269fad76597",
        "colab": {
          "base_uri": "https://localhost:8080/"
        }
      },
      "execution_count": 61,
      "outputs": [
        {
          "output_type": "stream",
          "name": "stdout",
          "text": [
            "Epoch 1/30\n",
            "189/189 [==============================] - 7s 22ms/step - loss: 2.3749 - accuracy: 0.2146 - val_loss: 2.2594 - val_accuracy: 0.2591\n",
            "Epoch 2/30\n",
            "189/189 [==============================] - 3s 16ms/step - loss: 2.1840 - accuracy: 0.2809 - val_loss: 2.2097 - val_accuracy: 0.2671\n",
            "Epoch 3/30\n",
            "189/189 [==============================] - 2s 12ms/step - loss: 2.0660 - accuracy: 0.3242 - val_loss: 2.1971 - val_accuracy: 0.2877\n",
            "Epoch 4/30\n",
            "189/189 [==============================] - 2s 12ms/step - loss: 1.9752 - accuracy: 0.3510 - val_loss: 2.1763 - val_accuracy: 0.3017\n",
            "Epoch 5/30\n",
            "189/189 [==============================] - 2s 12ms/step - loss: 1.8874 - accuracy: 0.3816 - val_loss: 2.1749 - val_accuracy: 0.3043\n",
            "Epoch 6/30\n",
            "189/189 [==============================] - 2s 13ms/step - loss: 1.8025 - accuracy: 0.4085 - val_loss: 2.1954 - val_accuracy: 0.3056\n",
            "Epoch 7/30\n",
            "189/189 [==============================] - 3s 17ms/step - loss: 1.7339 - accuracy: 0.4333 - val_loss: 2.1964 - val_accuracy: 0.3216\n",
            "Epoch 8/30\n",
            "189/189 [==============================] - 2s 13ms/step - loss: 1.6616 - accuracy: 0.4594 - val_loss: 2.2487 - val_accuracy: 0.3223\n",
            "Epoch 9/30\n",
            "189/189 [==============================] - 2s 12ms/step - loss: 1.5897 - accuracy: 0.4788 - val_loss: 2.2863 - val_accuracy: 0.3070\n",
            "Epoch 10/30\n",
            "189/189 [==============================] - 2s 13ms/step - loss: 1.5192 - accuracy: 0.5002 - val_loss: 2.3274 - val_accuracy: 0.3130\n",
            "Epoch 11/30\n",
            "189/189 [==============================] - 2s 13ms/step - loss: 1.4626 - accuracy: 0.5250 - val_loss: 2.3844 - val_accuracy: 0.3189\n",
            "Epoch 12/30\n",
            "189/189 [==============================] - 3s 16ms/step - loss: 1.3987 - accuracy: 0.5448 - val_loss: 2.5040 - val_accuracy: 0.3243\n",
            "Epoch 13/30\n",
            "189/189 [==============================] - 3s 14ms/step - loss: 1.3516 - accuracy: 0.5578 - val_loss: 2.5898 - val_accuracy: 0.3216\n",
            "Epoch 14/30\n",
            "189/189 [==============================] - 2s 12ms/step - loss: 1.2893 - accuracy: 0.5842 - val_loss: 2.6320 - val_accuracy: 0.3076\n",
            "Epoch 15/30\n",
            "189/189 [==============================] - 2s 12ms/step - loss: 1.2302 - accuracy: 0.6035 - val_loss: 2.6401 - val_accuracy: 0.2950\n",
            "Epoch 16/30\n",
            "189/189 [==============================] - 2s 12ms/step - loss: 1.2173 - accuracy: 0.6001 - val_loss: 2.7343 - val_accuracy: 0.3010\n",
            "Epoch 17/30\n",
            "189/189 [==============================] - 3s 14ms/step - loss: 1.1589 - accuracy: 0.6219 - val_loss: 2.8615 - val_accuracy: 0.3163\n",
            "Epoch 18/30\n",
            "189/189 [==============================] - 3s 17ms/step - loss: 1.1144 - accuracy: 0.6344 - val_loss: 2.9050 - val_accuracy: 0.2937\n",
            "Epoch 19/30\n",
            "189/189 [==============================] - 2s 13ms/step - loss: 1.0986 - accuracy: 0.6432 - val_loss: 3.0192 - val_accuracy: 0.3163\n",
            "Epoch 20/30\n",
            "189/189 [==============================] - 2s 13ms/step - loss: 1.0574 - accuracy: 0.6580 - val_loss: 3.2105 - val_accuracy: 0.3090\n",
            "Epoch 21/30\n",
            "189/189 [==============================] - 2s 13ms/step - loss: 1.0039 - accuracy: 0.6741 - val_loss: 3.1979 - val_accuracy: 0.3070\n",
            "Epoch 22/30\n",
            "189/189 [==============================] - 2s 13ms/step - loss: 0.9825 - accuracy: 0.6846 - val_loss: 3.2777 - val_accuracy: 0.3103\n",
            "Epoch 23/30\n",
            "189/189 [==============================] - 3s 17ms/step - loss: 0.9520 - accuracy: 0.6889 - val_loss: 3.3762 - val_accuracy: 0.3083\n",
            "Epoch 24/30\n",
            "189/189 [==============================] - 2s 13ms/step - loss: 0.9267 - accuracy: 0.6944 - val_loss: 3.4016 - val_accuracy: 0.3103\n",
            "Epoch 25/30\n",
            "189/189 [==============================] - 2s 12ms/step - loss: 0.9327 - accuracy: 0.6895 - val_loss: 3.4409 - val_accuracy: 0.3056\n",
            "Epoch 26/30\n",
            "189/189 [==============================] - 2s 13ms/step - loss: 0.8830 - accuracy: 0.7156 - val_loss: 3.5944 - val_accuracy: 0.3130\n",
            "Epoch 27/30\n",
            "189/189 [==============================] - 3s 15ms/step - loss: 0.8624 - accuracy: 0.7190 - val_loss: 3.7560 - val_accuracy: 0.3056\n",
            "Epoch 28/30\n",
            "189/189 [==============================] - 4s 22ms/step - loss: 0.8308 - accuracy: 0.7271 - val_loss: 3.7713 - val_accuracy: 0.3017\n",
            "Epoch 29/30\n",
            "189/189 [==============================] - 2s 13ms/step - loss: 0.7824 - accuracy: 0.7472 - val_loss: 3.9072 - val_accuracy: 0.2944\n",
            "Epoch 30/30\n",
            "189/189 [==============================] - 2s 13ms/step - loss: 0.8027 - accuracy: 0.7406 - val_loss: 3.8596 - val_accuracy: 0.3037\n"
          ]
        },
        {
          "output_type": "execute_result",
          "data": {
            "text/plain": [
              "<keras.src.callbacks.History at 0x7b014edf6020>"
            ]
          },
          "metadata": {},
          "execution_count": 61
        }
      ]
    },
    {
      "cell_type": "code",
      "source": [
        "predictions=model.predict(X_test)"
      ],
      "metadata": {
        "id": "FIMdFkYPDgWl",
        "outputId": "94a60a60-3d8d-496e-9706-da043fb4dfd6",
        "colab": {
          "base_uri": "https://localhost:8080/"
        }
      },
      "execution_count": 68,
      "outputs": [
        {
          "output_type": "stream",
          "name": "stdout",
          "text": [
            "48/48 [==============================] - 0s 7ms/step\n"
          ]
        }
      ]
    },
    {
      "cell_type": "code",
      "source": [
        "y_labels=np.argmax(predictions,axis=1)"
      ],
      "metadata": {
        "id": "dWfCKtIRD_sa"
      },
      "execution_count": 69,
      "outputs": []
    },
    {
      "cell_type": "code",
      "source": [
        "print(y_labels[:20])\n",
        "print(Y_test[:20])"
      ],
      "metadata": {
        "id": "uXQDnwbMESKa",
        "outputId": "d9b24c05-00ba-46ff-9061-14e4f4d858bb",
        "colab": {
          "base_uri": "https://localhost:8080/"
        }
      },
      "execution_count": 70,
      "outputs": [
        {
          "output_type": "stream",
          "name": "stdout",
          "text": [
            "[14 11 11 12  7  1 14 14 13 13  5 16 11 13  8  7 16 13 18 11]\n",
            "[ 5 11  5 12  7 11 15 14 13 14 14 15 11 15 10  7 14  7 13 11]\n"
          ]
        }
      ]
    }
  ]
}